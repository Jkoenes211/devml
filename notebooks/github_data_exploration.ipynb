{
 "cells": [
  {
   "cell_type": "code",
   "execution_count": 9,
   "metadata": {},
   "outputs": [
    {
     "data": {
      "text/html": [
       "<style>.container { width:100% !important; }</style>"
      ],
      "text/plain": [
       "<IPython.core.display.HTML object>"
      ]
     },
     "metadata": {},
     "output_type": "display_data"
    }
   ],
   "source": [
    "import sys;sys.path.append(\"..\")\n",
    "import pandas as pd\n",
    "from pandas import DataFrame\n",
    "import seaborn as sns\n",
    "import matplotlib.pyplot as plt\n",
    "from sklearn.cluster import KMeans\n",
    "%matplotlib inline\n",
    "from IPython.core.display import display, HTML\n",
    "display(HTML(\"<style>.container { width:100% !important; }</style>\"))"
   ]
  },
  {
   "cell_type": "code",
   "execution_count": 10,
   "metadata": {},
   "outputs": [],
   "source": [
    "from devml import (mkdata, stats, state, fetch_repo, ts)"
   ]
  },
  {
   "cell_type": "code",
   "execution_count": 11,
   "metadata": {},
   "outputs": [],
   "source": [
    "dest, token, org = state.get_project_metadata(\"../project/config.json\")"
   ]
  },
  {
   "cell_type": "code",
   "execution_count": 12,
   "metadata": {},
   "outputs": [
    {
     "name": "stderr",
     "output_type": "stream",
     "text": [
      "2017-10-14 21:47:01,649 - devml - INFO - Creating Checkout Root:  /tmp/checkout\n",
      "2017-10-14 21:47:02,438 - devml - INFO - Found Repo # 1 REPO NAME: flask , URL: git@github.com:pallets/flask.git \n",
      "2017-10-14 21:47:02,439 - devml - INFO - Found Repo # 2 REPO NAME: pallets-sphinx-themes , URL: git@github.com:pallets/pallets-sphinx-themes.git \n",
      "2017-10-14 21:47:02,440 - devml - INFO - Found Repo # 3 REPO NAME: markupsafe , URL: git@github.com:pallets/markupsafe.git \n",
      "2017-10-14 21:47:02,440 - devml - INFO - Found Repo # 4 REPO NAME: jinja , URL: git@github.com:pallets/jinja.git \n",
      "2017-10-14 21:47:02,441 - devml - INFO - Found Repo # 5 REPO NAME: werkzeug , URL: git@github.com:pallets/werkzeug.git \n",
      "2017-10-14 21:47:02,442 - devml - INFO - Found Repo # 6 REPO NAME: itsdangerous , URL: git@github.com:pallets/itsdangerous.git \n",
      "2017-10-14 21:47:02,443 - devml - INFO - Found Repo # 7 REPO NAME: flask-website , URL: git@github.com:pallets/flask-website.git \n",
      "2017-10-14 21:47:02,443 - devml - INFO - Found Repo # 8 REPO NAME: click , URL: git@github.com:pallets/click.git \n",
      "2017-10-14 21:47:02,444 - devml - INFO - Found Repo # 9 REPO NAME: flask-snippets , URL: git@github.com:pallets/flask-snippets.git \n",
      "2017-10-14 21:47:02,444 - devml - INFO - Found Repo # 10 REPO NAME: flask-docs , URL: git@github.com:pallets/flask-docs.git \n",
      "2017-10-14 21:47:02,445 - devml - INFO - Found Repo # 11 REPO NAME: flask-ext-migrate , URL: git@github.com:pallets/flask-ext-migrate.git \n",
      "2017-10-14 21:47:02,446 - devml - INFO - Found Repo # 12 REPO NAME: pocoo-sphinx-themes , URL: git@github.com:pallets/pocoo-sphinx-themes.git \n",
      "2017-10-14 21:47:02,446 - devml - INFO - Found Repo # 13 REPO NAME: website , URL: git@github.com:pallets/website.git \n",
      "2017-10-14 21:47:02,447 - devml - INFO - Found Repo # 14 REPO NAME: meta , URL: git@github.com:pallets/meta.git \n",
      "2017-10-14 21:47:02,448 - devml - INFO - Found Repo # 15 REPO NAME: werkzeug-cache , URL: git@github.com:pallets/werkzeug-cache.git \n",
      "2017-10-14 21:47:02,449 - devml - INFO - Cloning Repo # 1 REPO NAME: flask , URL: git@github.com:pallets/flask.git \n",
      "2017-10-14 21:47:04,123 - devml - INFO - Cloning Repo # 2 REPO NAME: pallets-sphinx-themes , URL: git@github.com:pallets/pallets-sphinx-themes.git \n",
      "2017-10-14 21:47:04,783 - devml - INFO - Cloning Repo # 3 REPO NAME: markupsafe , URL: git@github.com:pallets/markupsafe.git \n",
      "2017-10-14 21:47:05,473 - devml - INFO - Cloning Repo # 4 REPO NAME: jinja , URL: git@github.com:pallets/jinja.git \n",
      "2017-10-14 21:47:06,825 - devml - INFO - Cloning Repo # 5 REPO NAME: werkzeug , URL: git@github.com:pallets/werkzeug.git \n",
      "2017-10-14 21:47:08,794 - devml - INFO - Cloning Repo # 6 REPO NAME: itsdangerous , URL: git@github.com:pallets/itsdangerous.git \n",
      "2017-10-14 21:47:09,528 - devml - INFO - Cloning Repo # 7 REPO NAME: flask-website , URL: git@github.com:pallets/flask-website.git \n",
      "2017-10-14 21:47:10,606 - devml - INFO - Cloning Repo # 8 REPO NAME: click , URL: git@github.com:pallets/click.git \n",
      "2017-10-14 21:47:11,676 - devml - INFO - Cloning Repo # 9 REPO NAME: flask-snippets , URL: git@github.com:pallets/flask-snippets.git \n",
      "2017-10-14 21:47:12,474 - devml - INFO - Cloning Repo # 10 REPO NAME: flask-docs , URL: git@github.com:pallets/flask-docs.git \n",
      "2017-10-14 21:47:13,225 - devml - INFO - Cloning Repo # 11 REPO NAME: flask-ext-migrate , URL: git@github.com:pallets/flask-ext-migrate.git \n",
      "2017-10-14 21:47:13,921 - devml - INFO - Cloning Repo # 12 REPO NAME: pocoo-sphinx-themes , URL: git@github.com:pallets/pocoo-sphinx-themes.git \n",
      "2017-10-14 21:47:14,586 - devml - INFO - Cloning Repo # 13 REPO NAME: website , URL: git@github.com:pallets/website.git \n",
      "2017-10-14 21:47:15,402 - devml - INFO - Cloning Repo # 14 REPO NAME: meta , URL: git@github.com:pallets/meta.git \n",
      "2017-10-14 21:47:16,046 - devml - INFO - Cloning Repo # 15 REPO NAME: werkzeug-cache , URL: git@github.com:pallets/werkzeug-cache.git \n",
      "2017-10-14 21:47:16,630 - devml - ERROR - NO MASTER BRANCH...SKIPPING\n",
      "Traceback (most recent call last):\n",
      "  File \"../devml/fetch_repo.py\", line 76, in clone_org_repos\n",
      "    repo = clone_remote_repo(name, url, dest, branch=branch)\n",
      "  File \"../devml/fetch_repo.py\", line 45, in clone_remote_repo\n",
      "    repo = git.Repo.clone_from(url, path, branch=branch)\n",
      "  File \"/Users/noahgift/.devml/lib/python3.6/site-packages/git/repo/base.py\", line 972, in clone_from\n",
      "    return cls._clone(git, url, to_path, GitCmdObjectDB, progress, **kwargs)\n",
      "  File \"/Users/noahgift/.devml/lib/python3.6/site-packages/git/repo/base.py\", line 927, in _clone\n",
      "    finalize_process(proc, stderr=stderr)\n",
      "  File \"/Users/noahgift/.devml/lib/python3.6/site-packages/git/util.py\", line 341, in finalize_process\n",
      "    proc.wait(**kwargs)\n",
      "  File \"/Users/noahgift/.devml/lib/python3.6/site-packages/git/cmd.py\", line 418, in wait\n",
      "    raise GitCommandError(self.args, status, errstr)\n",
      "git.exc.GitCommandError: Cmd('git') failed due to: exit code(128)\n",
      "  cmdline: git clone --branch=master -v git@github.com:pallets/werkzeug-cache.git /tmp/checkout/werkzeug-cache\n",
      "  stderr: 'Cloning into '/tmp/checkout/werkzeug-cache'...\n",
      "fatal: Remote branch master not found in upstream origin\n",
      "'\n"
     ]
    },
    {
     "data": {
      "text/plain": [
       "[<git.Repo \"/tmp/checkout/flask/.git\">,\n",
       " <git.Repo \"/tmp/checkout/pallets-sphinx-themes/.git\">,\n",
       " <git.Repo \"/tmp/checkout/markupsafe/.git\">,\n",
       " <git.Repo \"/tmp/checkout/jinja/.git\">,\n",
       " <git.Repo \"/tmp/checkout/werkzeug/.git\">,\n",
       " <git.Repo \"/tmp/checkout/itsdangerous/.git\">,\n",
       " <git.Repo \"/tmp/checkout/flask-website/.git\">,\n",
       " <git.Repo \"/tmp/checkout/click/.git\">,\n",
       " <git.Repo \"/tmp/checkout/flask-snippets/.git\">,\n",
       " <git.Repo \"/tmp/checkout/flask-docs/.git\">,\n",
       " <git.Repo \"/tmp/checkout/flask-ext-migrate/.git\">,\n",
       " <git.Repo \"/tmp/checkout/pocoo-sphinx-themes/.git\">,\n",
       " <git.Repo \"/tmp/checkout/website/.git\">,\n",
       " <git.Repo \"/tmp/checkout/meta/.git\">]"
      ]
     },
     "execution_count": 12,
     "metadata": {},
     "output_type": "execute_result"
    }
   ],
   "source": [
    "#%%bash --out output --err error\n",
    "fetch_repo.clone_org_repos(token, org, \n",
    "        dest, branch=\"master\")"
   ]
  },
  {
   "cell_type": "code",
   "execution_count": 13,
   "metadata": {},
   "outputs": [
    {
     "name": "stdout",
     "output_type": "stream",
     "text": [
      "total 0\r\n",
      "drwxr-xr-x  21 noahgift  wheel  672 Oct 14 21:47 \u001b[1m\u001b[36mclick\u001b[m\u001b[m\r\n",
      "drwxr-xr-x  25 noahgift  wheel  800 Oct 14 21:47 \u001b[1m\u001b[36mflask\u001b[m\u001b[m\r\n",
      "drwxr-xr-x  11 noahgift  wheel  352 Oct 14 21:47 \u001b[1m\u001b[36mflask-docs\u001b[m\u001b[m\r\n",
      "drwxr-xr-x  12 noahgift  wheel  384 Oct 14 21:47 \u001b[1m\u001b[36mflask-ext-migrate\u001b[m\u001b[m\r\n",
      "drwxr-xr-x   8 noahgift  wheel  256 Oct 14 21:47 \u001b[1m\u001b[36mflask-snippets\u001b[m\u001b[m\r\n",
      "drwxr-xr-x  14 noahgift  wheel  448 Oct 14 21:47 \u001b[1m\u001b[36mflask-website\u001b[m\u001b[m\r\n",
      "drwxr-xr-x  18 noahgift  wheel  576 Oct 14 21:47 \u001b[1m\u001b[36mitsdangerous\u001b[m\u001b[m\r\n",
      "drwxr-xr-x  23 noahgift  wheel  736 Oct 14 21:47 \u001b[1m\u001b[36mjinja\u001b[m\u001b[m\r\n",
      "drwxr-xr-x  18 noahgift  wheel  576 Oct 14 21:47 \u001b[1m\u001b[36mmarkupsafe\u001b[m\u001b[m\r\n",
      "drwxr-xr-x   4 noahgift  wheel  128 Oct 14 21:47 \u001b[1m\u001b[36mmeta\u001b[m\u001b[m\r\n",
      "drwxr-xr-x  10 noahgift  wheel  320 Oct 14 21:47 \u001b[1m\u001b[36mpallets-sphinx-themes\u001b[m\u001b[m\r\n",
      "drwxr-xr-x   9 noahgift  wheel  288 Oct 14 21:47 \u001b[1m\u001b[36mpocoo-sphinx-themes\u001b[m\u001b[m\r\n",
      "drwxr-xr-x  15 noahgift  wheel  480 Oct 14 21:47 \u001b[1m\u001b[36mwebsite\u001b[m\u001b[m\r\n",
      "drwxr-xr-x  25 noahgift  wheel  800 Oct 14 21:47 \u001b[1m\u001b[36mwerkzeug\u001b[m\u001b[m\r\n"
     ]
    }
   ],
   "source": [
    "!ls -l /tmp/checkout"
   ]
  },
  {
   "cell_type": "code",
   "execution_count": 5,
   "metadata": {},
   "outputs": [
    {
     "name": "stderr",
     "output_type": "stream",
     "text": [
      "2017-10-14 21:35:18,252 - devml.mkdata - INFO - Found repo: /tmp/checkout/flask\n",
      "2017-10-14 21:35:18,254 - devml.mkdata - INFO - Processing Repo: /tmp/checkout/flask\n",
      "2017-10-14 21:35:18,273 - devml.mkdata - INFO - Repo Name: b'flask'\n",
      "2017-10-14 21:35:18,342 - devml.mkdata - INFO - Found 3094 Messages For Repo: b'flask'\n",
      "2017-10-14 21:35:18,343 - devml.mkdata - INFO - Found repo: /tmp/checkout/markupsafe\n",
      "2017-10-14 21:35:18,343 - devml.mkdata - INFO - Processing Repo: /tmp/checkout/markupsafe\n",
      "2017-10-14 21:35:18,359 - devml.mkdata - INFO - Repo Name: b'markupsafe'\n",
      "2017-10-14 21:35:18,378 - devml.mkdata - INFO - Found 97 Messages For Repo: b'markupsafe'\n",
      "2017-10-14 21:35:18,380 - devml.mkdata - INFO - Found repo: /tmp/checkout/jinja\n",
      "2017-10-14 21:35:18,382 - devml.mkdata - INFO - Processing Repo: /tmp/checkout/jinja\n",
      "2017-10-14 21:35:18,400 - devml.mkdata - INFO - Repo Name: b'jinja'\n",
      "2017-10-14 21:35:18,451 - devml.mkdata - INFO - Found 1758 Messages For Repo: b'jinja'\n",
      "2017-10-14 21:35:18,453 - devml.mkdata - INFO - Found repo: /tmp/checkout/flask-ext-migrate\n",
      "2017-10-14 21:35:18,454 - devml.mkdata - INFO - Processing Repo: /tmp/checkout/flask-ext-migrate\n",
      "2017-10-14 21:35:18,470 - devml.mkdata - INFO - Repo Name: b'flask-ext-migrate'\n",
      "2017-10-14 21:35:18,490 - devml.mkdata - INFO - Found 57 Messages For Repo: b'flask-ext-migrate'\n",
      "2017-10-14 21:35:18,492 - devml.mkdata - INFO - Found repo: /tmp/checkout/website\n",
      "2017-10-14 21:35:18,493 - devml.mkdata - INFO - Processing Repo: /tmp/checkout/website\n",
      "2017-10-14 21:35:18,528 - devml.mkdata - INFO - Repo Name: b'website'\n",
      "2017-10-14 21:35:18,548 - devml.mkdata - INFO - Found 80 Messages For Repo: b'website'\n",
      "2017-10-14 21:35:18,550 - devml.mkdata - INFO - Found repo: /tmp/checkout/werkzeug\n",
      "2017-10-14 21:35:18,551 - devml.mkdata - INFO - Processing Repo: /tmp/checkout/werkzeug\n",
      "2017-10-14 21:35:18,568 - devml.mkdata - INFO - Repo Name: b'werkzeug'\n",
      "2017-10-14 21:35:18,644 - devml.mkdata - INFO - Found 3371 Messages For Repo: b'werkzeug'\n",
      "2017-10-14 21:35:18,645 - devml.mkdata - INFO - Found repo: /tmp/checkout/meta\n",
      "2017-10-14 21:35:18,646 - devml.mkdata - INFO - Processing Repo: /tmp/checkout/meta\n",
      "2017-10-14 21:35:18,664 - devml.mkdata - INFO - Repo Name: b'meta'\n",
      "2017-10-14 21:35:18,681 - devml.mkdata - INFO - Found 1 Messages For Repo: b'meta'\n",
      "2017-10-14 21:35:18,683 - devml.mkdata - INFO - Found repo: /tmp/checkout/click\n",
      "2017-10-14 21:35:18,683 - devml.mkdata - INFO - Processing Repo: /tmp/checkout/click\n",
      "2017-10-14 21:35:18,701 - devml.mkdata - INFO - Repo Name: b'click'\n",
      "2017-10-14 21:35:18,736 - devml.mkdata - INFO - Found 954 Messages For Repo: b'click'\n",
      "2017-10-14 21:35:18,738 - devml.mkdata - INFO - Found repo: /tmp/checkout/pocoo-sphinx-themes\n",
      "2017-10-14 21:35:18,739 - devml.mkdata - INFO - Processing Repo: /tmp/checkout/pocoo-sphinx-themes\n",
      "2017-10-14 21:35:18,755 - devml.mkdata - INFO - Repo Name: b'pocoo-sphinx-themes'\n",
      "2017-10-14 21:35:18,773 - devml.mkdata - INFO - Found 5 Messages For Repo: b'pocoo-sphinx-themes'\n",
      "2017-10-14 21:35:18,775 - devml.mkdata - INFO - Found repo: /tmp/checkout/flask-website\n",
      "2017-10-14 21:35:18,776 - devml.mkdata - INFO - Processing Repo: /tmp/checkout/flask-website\n",
      "2017-10-14 21:35:18,794 - devml.mkdata - INFO - Repo Name: b'flask-website'\n",
      "2017-10-14 21:35:18,822 - devml.mkdata - INFO - Found 497 Messages For Repo: b'flask-website'\n",
      "2017-10-14 21:35:18,824 - devml.mkdata - INFO - Found repo: /tmp/checkout/flask-docs\n",
      "2017-10-14 21:35:18,825 - devml.mkdata - INFO - Processing Repo: /tmp/checkout/flask-docs\n",
      "2017-10-14 21:35:18,842 - devml.mkdata - INFO - Repo Name: b'flask-docs'\n",
      "2017-10-14 21:35:18,861 - devml.mkdata - INFO - Found 77 Messages For Repo: b'flask-docs'\n",
      "2017-10-14 21:35:18,864 - devml.mkdata - INFO - Found repo: /tmp/checkout/pallets-sphinx-themes\n",
      "2017-10-14 21:35:18,865 - devml.mkdata - INFO - Processing Repo: /tmp/checkout/pallets-sphinx-themes\n",
      "2017-10-14 21:35:18,881 - devml.mkdata - INFO - Repo Name: b'pallets-sphinx-themes'\n",
      "2017-10-14 21:35:18,900 - devml.mkdata - INFO - Found 35 Messages For Repo: b'pallets-sphinx-themes'\n",
      "2017-10-14 21:35:18,902 - devml.mkdata - INFO - Found repo: /tmp/checkout/flask-snippets\n",
      "2017-10-14 21:35:18,903 - devml.mkdata - INFO - Processing Repo: /tmp/checkout/flask-snippets\n",
      "2017-10-14 21:35:18,921 - devml.mkdata - INFO - Repo Name: b'flask-snippets'\n",
      "2017-10-14 21:35:18,940 - devml.mkdata - INFO - Found 9 Messages For Repo: b'flask-snippets'\n",
      "2017-10-14 21:35:18,942 - devml.mkdata - INFO - Found repo: /tmp/checkout/itsdangerous\n",
      "2017-10-14 21:35:18,942 - devml.mkdata - INFO - Processing Repo: /tmp/checkout/itsdangerous\n",
      "2017-10-14 21:35:18,960 - devml.mkdata - INFO - Repo Name: b'itsdangerous'\n",
      "2017-10-14 21:35:18,981 - devml.mkdata - INFO - Found 141 Messages For Repo: b'itsdangerous'\n",
      "2017-10-14 21:35:18,983 - devml.mkdata - INFO - Found a total log entries: 10176\n",
      "2017-10-14 21:35:19,059 - devml.mkdata - INFO - Changing back to original cwd: /Users/noahgift/src/devml/notebooks from /private/tmp/checkout/itsdangerous\n"
     ]
    }
   ],
   "source": [
    "#%%bash --out output --err error\n",
    "df = mkdata.create_org_df(path=\"/tmp/checkout\")"
   ]
  },
  {
   "cell_type": "code",
   "execution_count": 6,
   "metadata": {},
   "outputs": [
    {
     "data": {
      "text/html": [
       "<div>\n",
       "<style>\n",
       "    .dataframe thead tr:only-child th {\n",
       "        text-align: right;\n",
       "    }\n",
       "\n",
       "    .dataframe thead th {\n",
       "        text-align: left;\n",
       "    }\n",
       "\n",
       "    .dataframe tbody tr th {\n",
       "        vertical-align: top;\n",
       "    }\n",
       "</style>\n",
       "<table border=\"1\" class=\"dataframe\">\n",
       "  <thead>\n",
       "    <tr style=\"text-align: right;\">\n",
       "      <th></th>\n",
       "      <th>author_email</th>\n",
       "      <th>author_name</th>\n",
       "      <th>id</th>\n",
       "      <th>message</th>\n",
       "      <th>repo</th>\n",
       "      <th>commits</th>\n",
       "    </tr>\n",
       "    <tr>\n",
       "      <th>date</th>\n",
       "      <th></th>\n",
       "      <th></th>\n",
       "      <th></th>\n",
       "      <th></th>\n",
       "      <th></th>\n",
       "      <th></th>\n",
       "    </tr>\n",
       "  </thead>\n",
       "  <tbody>\n",
       "    <tr>\n",
       "      <th>2017-10-13 04:53:50</th>\n",
       "      <td>rgerganov@gmail.com</td>\n",
       "      <td>Radoslav Gerganov</td>\n",
       "      <td>9291ead32e2fc8b13cef825186c968944e9ff344</td>\n",
       "      <td>Fix typo in logging.rst (#2492)</td>\n",
       "      <td>b'flask'</td>\n",
       "      <td>1</td>\n",
       "    </tr>\n",
       "    <tr>\n",
       "      <th>2017-10-11 07:03:32</th>\n",
       "      <td>davidism@gmail.com</td>\n",
       "      <td>David Lord</td>\n",
       "      <td>82e66848e8ab44d58e483b6b92eea5f04627c422</td>\n",
       "      <td>Merge pull request #2491 from mrnom/patch-1</td>\n",
       "      <td>b'flask'</td>\n",
       "      <td>1</td>\n",
       "    </tr>\n",
       "    <tr>\n",
       "      <th>2017-10-11 06:47:26</th>\n",
       "      <td>31620258+mrnom@users.noreply.github.com</td>\n",
       "      <td>Mrn Om</td>\n",
       "      <td>c3527144780772a22effd718654ca6ad472aaae0</td>\n",
       "      <td>Fix grammar/typos</td>\n",
       "      <td>b'flask'</td>\n",
       "      <td>1</td>\n",
       "    </tr>\n",
       "    <tr>\n",
       "      <th>2017-10-10 11:59:28</th>\n",
       "      <td>davidism@gmail.com</td>\n",
       "      <td>David Lord</td>\n",
       "      <td>0932d8f428ae6c7cb6615a6a146e417eb182ec4d</td>\n",
       "      <td>Merge pull request #2490 from davidism/cli-review</td>\n",
       "      <td>b'flask'</td>\n",
       "      <td>1</td>\n",
       "    </tr>\n",
       "    <tr>\n",
       "      <th>2017-10-10 11:10:20</th>\n",
       "      <td>davidism@gmail.com</td>\n",
       "      <td>David Lord</td>\n",
       "      <td>9bc329c0c9dcdb5a3a6919f31542b6e7453d8aa8</td>\n",
       "      <td>rewrite cli docs reflects the current FLASK_AP...</td>\n",
       "      <td>b'flask'</td>\n",
       "      <td>1</td>\n",
       "    </tr>\n",
       "  </tbody>\n",
       "</table>\n",
       "</div>"
      ],
      "text/plain": [
       "                                                author_email  \\\n",
       "date                                                           \n",
       "2017-10-13 04:53:50                      rgerganov@gmail.com   \n",
       "2017-10-11 07:03:32                       davidism@gmail.com   \n",
       "2017-10-11 06:47:26  31620258+mrnom@users.noreply.github.com   \n",
       "2017-10-10 11:59:28                       davidism@gmail.com   \n",
       "2017-10-10 11:10:20                       davidism@gmail.com   \n",
       "\n",
       "                           author_name  \\\n",
       "date                                     \n",
       "2017-10-13 04:53:50  Radoslav Gerganov   \n",
       "2017-10-11 07:03:32         David Lord   \n",
       "2017-10-11 06:47:26             Mrn Om   \n",
       "2017-10-10 11:59:28         David Lord   \n",
       "2017-10-10 11:10:20         David Lord   \n",
       "\n",
       "                                                           id  \\\n",
       "date                                                            \n",
       "2017-10-13 04:53:50  9291ead32e2fc8b13cef825186c968944e9ff344   \n",
       "2017-10-11 07:03:32  82e66848e8ab44d58e483b6b92eea5f04627c422   \n",
       "2017-10-11 06:47:26  c3527144780772a22effd718654ca6ad472aaae0   \n",
       "2017-10-10 11:59:28  0932d8f428ae6c7cb6615a6a146e417eb182ec4d   \n",
       "2017-10-10 11:10:20  9bc329c0c9dcdb5a3a6919f31542b6e7453d8aa8   \n",
       "\n",
       "                                                               message  \\\n",
       "date                                                                     \n",
       "2017-10-13 04:53:50                    Fix typo in logging.rst (#2492)   \n",
       "2017-10-11 07:03:32        Merge pull request #2491 from mrnom/patch-1   \n",
       "2017-10-11 06:47:26                                  Fix grammar/typos   \n",
       "2017-10-10 11:59:28  Merge pull request #2490 from davidism/cli-review   \n",
       "2017-10-10 11:10:20  rewrite cli docs reflects the current FLASK_AP...   \n",
       "\n",
       "                         repo  commits  \n",
       "date                                    \n",
       "2017-10-13 04:53:50  b'flask'        1  \n",
       "2017-10-11 07:03:32  b'flask'        1  \n",
       "2017-10-11 06:47:26  b'flask'        1  \n",
       "2017-10-10 11:59:28  b'flask'        1  \n",
       "2017-10-10 11:10:20  b'flask'        1  "
      ]
     },
     "execution_count": 6,
     "metadata": {},
     "output_type": "execute_result"
    }
   ],
   "source": [
    "df.head()"
   ]
  },
  {
   "cell_type": "code",
   "execution_count": 7,
   "metadata": {},
   "outputs": [],
   "source": [
    "df_author_ud = stats.author_unique_active_days(df)"
   ]
  },
  {
   "cell_type": "code",
   "execution_count": 8,
   "metadata": {},
   "outputs": [
    {
     "data": {
      "text/html": [
       "<div>\n",
       "<style>\n",
       "    .dataframe thead tr:only-child th {\n",
       "        text-align: right;\n",
       "    }\n",
       "\n",
       "    .dataframe thead th {\n",
       "        text-align: left;\n",
       "    }\n",
       "\n",
       "    .dataframe tbody tr th {\n",
       "        vertical-align: top;\n",
       "    }\n",
       "</style>\n",
       "<table border=\"1\" class=\"dataframe\">\n",
       "  <thead>\n",
       "    <tr style=\"text-align: right;\">\n",
       "      <th></th>\n",
       "      <th>author_name</th>\n",
       "      <th>active_days</th>\n",
       "      <th>active_duration</th>\n",
       "      <th>active_ratio</th>\n",
       "    </tr>\n",
       "  </thead>\n",
       "  <tbody>\n",
       "    <tr>\n",
       "      <th>86</th>\n",
       "      <td>Armin Ronacher</td>\n",
       "      <td>989</td>\n",
       "      <td>3817 days</td>\n",
       "      <td>0.26</td>\n",
       "    </tr>\n",
       "    <tr>\n",
       "      <th>501</th>\n",
       "      <td>Markus Unterwaditzer</td>\n",
       "      <td>342</td>\n",
       "      <td>1820 days</td>\n",
       "      <td>0.19</td>\n",
       "    </tr>\n",
       "    <tr>\n",
       "      <th>216</th>\n",
       "      <td>David Lord</td>\n",
       "      <td>129</td>\n",
       "      <td>712 days</td>\n",
       "      <td>0.18</td>\n",
       "    </tr>\n",
       "    <tr>\n",
       "      <th>664</th>\n",
       "      <td>Ron DuPlain</td>\n",
       "      <td>78</td>\n",
       "      <td>854 days</td>\n",
       "      <td>0.09</td>\n",
       "    </tr>\n",
       "    <tr>\n",
       "      <th>444</th>\n",
       "      <td>Kenneth Reitz</td>\n",
       "      <td>68</td>\n",
       "      <td>2566 days</td>\n",
       "      <td>0.03</td>\n",
       "    </tr>\n",
       "    <tr>\n",
       "      <th>197</th>\n",
       "      <td>Daniel Neuhäuser</td>\n",
       "      <td>42</td>\n",
       "      <td>1457 days</td>\n",
       "      <td>0.03</td>\n",
       "    </tr>\n",
       "    <tr>\n",
       "      <th>297</th>\n",
       "      <td>Georg Brandl</td>\n",
       "      <td>41</td>\n",
       "      <td>1337 days</td>\n",
       "      <td>0.03</td>\n",
       "    </tr>\n",
       "    <tr>\n",
       "      <th>196</th>\n",
       "      <td>Daniel Neuhäuser</td>\n",
       "      <td>36</td>\n",
       "      <td>435 days</td>\n",
       "      <td>0.08</td>\n",
       "    </tr>\n",
       "    <tr>\n",
       "      <th>450</th>\n",
       "      <td>Keyan Pishdadian</td>\n",
       "      <td>28</td>\n",
       "      <td>885 days</td>\n",
       "      <td>0.03</td>\n",
       "    </tr>\n",
       "    <tr>\n",
       "      <th>169</th>\n",
       "      <td>Christopher Grebs</td>\n",
       "      <td>28</td>\n",
       "      <td>1515 days</td>\n",
       "      <td>0.02</td>\n",
       "    </tr>\n",
       "  </tbody>\n",
       "</table>\n",
       "</div>"
      ],
      "text/plain": [
       "              author_name  active_days active_duration  active_ratio\n",
       "86         Armin Ronacher          989       3817 days          0.26\n",
       "501  Markus Unterwaditzer          342       1820 days          0.19\n",
       "216            David Lord          129        712 days          0.18\n",
       "664           Ron DuPlain           78        854 days          0.09\n",
       "444         Kenneth Reitz           68       2566 days          0.03\n",
       "197      Daniel Neuhäuser           42       1457 days          0.03\n",
       "297          Georg Brandl           41       1337 days          0.03\n",
       "196     Daniel Neuhäuser           36        435 days          0.08\n",
       "450      Keyan Pishdadian           28        885 days          0.03\n",
       "169     Christopher Grebs           28       1515 days          0.02"
      ]
     },
     "execution_count": 8,
     "metadata": {},
     "output_type": "execute_result"
    }
   ],
   "source": [
    "df_author_ud.head(10)"
   ]
  },
  {
   "cell_type": "code",
   "execution_count": 9,
   "metadata": {},
   "outputs": [
    {
     "data": {
      "text/plain": [
       "<matplotlib.axes._subplots.AxesSubplot at 0x116dbc5f8>"
      ]
     },
     "execution_count": 9,
     "metadata": {},
     "output_type": "execute_result"
    },
    {
     "data": {
      "image/png": "[encoded data removed]",
      "text/plain": [
       "<matplotlib.figure.Figure at 0x116dbc278>"
      ]
     },
     "metadata": {},
     "output_type": "display_data"
    }
   ],
   "source": [
    "sns.barplot(y=\"author_name\", x=\"active_days\", data=df_author_ud.head(10))"
   ]
  },
  {
   "cell_type": "code",
   "execution_count": 8,
   "metadata": {},
   "outputs": [],
   "source": [
    "df_author_ud['active_days_percentage'] = df_author_ud[\"active_duration\"]/df_author_ud[\"active_days\"]"
   ]
  },
  {
   "cell_type": "code",
   "execution_count": 10,
   "metadata": {},
   "outputs": [],
   "source": [
    "ad = stats.author_active_days(df)"
   ]
  },
  {
   "cell_type": "code",
   "execution_count": 11,
   "metadata": {},
   "outputs": [],
   "source": [
    "v = ad.loc[\"Markus Unterwaditzer\"]"
   ]
  },
  {
   "cell_type": "code",
   "execution_count": 12,
   "metadata": {},
   "outputs": [
    {
     "data": {
      "text/plain": [
       "989"
      ]
     },
     "execution_count": 12,
     "metadata": {},
     "output_type": "execute_result"
    }
   ],
   "source": [
    "len(v)\n",
    "#v.drop_duplicates"
   ]
  },
  {
   "cell_type": "code",
   "execution_count": 13,
   "metadata": {},
   "outputs": [],
   "source": [
    "v.drop_duplicates(inplace=True)\n",
    "v.dropna(inplace=True)"
   ]
  },
  {
   "cell_type": "code",
   "execution_count": 14,
   "metadata": {},
   "outputs": [],
   "source": [
    "v.sort_values(axis=0,inplace=True)"
   ]
  },
  {
   "cell_type": "code",
   "execution_count": 27,
   "metadata": {},
   "outputs": [],
   "source": [
    "vals = v"
   ]
  },
  {
   "cell_type": "code",
   "execution_count": 28,
   "metadata": {},
   "outputs": [
    {
     "data": {
      "text/plain": [
       "datetime.timedelta(206)"
      ]
     },
     "execution_count": 28,
     "metadata": {},
     "output_type": "execute_result"
    }
   ],
   "source": [
    "vals[0]-vals[len(vals)-1]"
   ]
  },
  {
   "cell_type": "code",
   "execution_count": 29,
   "metadata": {},
   "outputs": [
    {
     "data": {
      "text/plain": [
       "342"
      ]
     },
     "execution_count": 29,
     "metadata": {},
     "output_type": "execute_result"
    }
   ],
   "source": [
    "vals.count()"
   ]
  },
  {
   "cell_type": "code",
   "execution_count": 30,
   "metadata": {},
   "outputs": [],
   "source": [
    "vals.reset_index(inplace=True,drop=True)"
   ]
  },
  {
   "cell_type": "code",
   "execution_count": 31,
   "metadata": {},
   "outputs": [
    {
     "data": {
      "text/plain": [
       "0      2012-10-16\n",
       "1      2012-10-21\n",
       "2      2012-11-08\n",
       "3      2012-12-10\n",
       "4      2012-12-17\n",
       "5      2013-01-16\n",
       "6      2013-01-17\n",
       "7      2013-01-18\n",
       "8      2013-01-24\n",
       "9      2013-02-17\n",
       "10     2013-03-04\n",
       "11     2013-03-05\n",
       "12     2013-03-10\n",
       "13     2013-03-11\n",
       "14     2013-03-13\n",
       "15     2013-03-14\n",
       "16     2013-03-16\n",
       "17     2013-03-17\n",
       "18     2013-03-23\n",
       "19     2013-04-15\n",
       "20     2013-04-16\n",
       "21     2013-04-17\n",
       "22     2013-04-18\n",
       "23     2013-05-17\n",
       "24     2013-05-18\n",
       "25     2013-05-19\n",
       "26     2013-05-20\n",
       "27     2013-05-21\n",
       "28     2013-05-22\n",
       "29     2013-05-23\n",
       "          ...    \n",
       "312    2017-01-26\n",
       "313    2017-01-27\n",
       "314    2017-02-09\n",
       "315    2017-02-11\n",
       "316    2017-02-13\n",
       "317    2017-02-18\n",
       "318    2017-02-25\n",
       "319    2017-02-26\n",
       "320    2017-02-27\n",
       "321    2017-03-10\n",
       "322    2017-03-11\n",
       "323    2017-03-12\n",
       "324    2017-03-15\n",
       "325    2017-03-22\n",
       "326    2017-03-29\n",
       "327    2017-03-30\n",
       "328    2017-03-31\n",
       "329    2017-04-01\n",
       "330    2017-04-16\n",
       "331    2017-05-04\n",
       "332    2017-05-05\n",
       "333    2017-05-15\n",
       "334    2017-05-16\n",
       "335    2017-05-19\n",
       "336    2017-05-21\n",
       "337    2017-05-23\n",
       "338    2017-08-18\n",
       "339    2017-08-29\n",
       "340    2017-09-12\n",
       "341    2017-10-10\n",
       "Name: Markus Unterwaditzer, Length: 342, dtype: object"
      ]
     },
     "execution_count": 31,
     "metadata": {},
     "output_type": "execute_result"
    }
   ],
   "source": [
    "vals"
   ]
  },
  {
   "cell_type": "code",
   "execution_count": 33,
   "metadata": {},
   "outputs": [
    {
     "data": {
      "text/plain": [
       "datetime.timedelta(1820)"
      ]
     },
     "execution_count": 33,
     "metadata": {},
     "output_type": "execute_result"
    }
   ],
   "source": [
    "vals[len(vals)-1]-vals[0]"
   ]
  },
  {
   "cell_type": "code",
   "execution_count": 19,
   "metadata": {},
   "outputs": [
    {
     "data": {
      "text/plain": [
       "86     0.260000\n",
       "501    0.190000\n",
       "216    0.180000\n",
       "664    0.090000\n",
       "444    0.030000\n",
       "197    0.030000\n",
       "297    0.030000\n",
       "196    0.080000\n",
       "450    0.030000\n",
       "169    0.020000\n",
       "666    0.010000\n",
       "712    0.030000\n",
       "372    0.020000\n",
       "427    0.440000\n",
       "21     0.010000\n",
       "569    0.070000\n",
       "912    0.020000\n",
       "756    0.010000\n",
       "763    0.010000\n",
       "628    0.010000\n",
       "23     0.020000\n",
       "391    0.000000\n",
       "692    0.030000\n",
       "460    0.030000\n",
       "45     0.170000\n",
       "185    0.020000\n",
       "47     0.010000\n",
       "380    0.010000\n",
       "878    0.080000\n",
       "519    0.010000\n",
       "         ...   \n",
       "425         inf\n",
       "429         inf\n",
       "430         inf\n",
       "431         inf\n",
       "397         inf\n",
       "396         inf\n",
       "395         inf\n",
       "394         inf\n",
       "360         inf\n",
       "362         inf\n",
       "363         inf\n",
       "365         inf\n",
       "366         inf\n",
       "367         inf\n",
       "368         inf\n",
       "369         inf\n",
       "370         inf\n",
       "371         inf\n",
       "373         inf\n",
       "377         inf\n",
       "379         inf\n",
       "383         inf\n",
       "384         inf\n",
       "385         inf\n",
       "386         inf\n",
       "388         inf\n",
       "389         inf\n",
       "390         inf\n",
       "393         inf\n",
       "991         inf\n",
       "Length: 991, dtype: float64"
      ]
     },
     "execution_count": 19,
     "metadata": {},
     "output_type": "execute_result"
    }
   ],
   "source": [
    "round(df_author_ud[\"active_days\"]/df_author_ud[\"active_duration\"].dt.days, 2)"
   ]
  },
  {
   "cell_type": "code",
   "execution_count": 13,
   "metadata": {},
   "outputs": [],
   "source": [
    "vv = df_author_ud[\"active_days\"]"
   ]
  },
  {
   "cell_type": "code",
   "execution_count": 17,
   "metadata": {},
   "outputs": [],
   "source": [
    "xx = df_author_ud[\"active_duration\"].dt.days"
   ]
  },
  {
   "cell_type": "code",
   "execution_count": 18,
   "metadata": {},
   "outputs": [
    {
     "data": {
      "text/plain": [
       "86     0.259104\n",
       "501    0.187912\n",
       "216    0.181180\n",
       "664    0.091335\n",
       "444    0.026500\n",
       "197    0.028826\n",
       "297    0.030666\n",
       "196    0.082759\n",
       "450    0.031638\n",
       "169    0.018482\n",
       "666    0.008824\n",
       "712    0.027743\n",
       "372    0.022619\n",
       "427    0.444444\n",
       "21     0.008269\n",
       "569    0.071066\n",
       "912    0.020231\n",
       "756    0.009324\n",
       "763    0.007051\n",
       "628    0.006382\n",
       "23     0.019194\n",
       "391    0.003268\n",
       "692    0.034749\n",
       "460    0.029520\n",
       "45     0.173913\n",
       "185    0.019753\n",
       "47     0.013356\n",
       "380    0.010191\n",
       "878    0.081633\n",
       "519    0.008197\n",
       "         ...   \n",
       "425         inf\n",
       "429         inf\n",
       "430         inf\n",
       "431         inf\n",
       "397         inf\n",
       "396         inf\n",
       "395         inf\n",
       "394         inf\n",
       "360         inf\n",
       "362         inf\n",
       "363         inf\n",
       "365         inf\n",
       "366         inf\n",
       "367         inf\n",
       "368         inf\n",
       "369         inf\n",
       "370         inf\n",
       "371         inf\n",
       "373         inf\n",
       "377         inf\n",
       "379         inf\n",
       "383         inf\n",
       "384         inf\n",
       "385         inf\n",
       "386         inf\n",
       "388         inf\n",
       "389         inf\n",
       "390         inf\n",
       "393         inf\n",
       "991         inf\n",
       "Length: 991, dtype: float64"
      ]
     },
     "execution_count": 18,
     "metadata": {},
     "output_type": "execute_result"
    }
   ],
   "source": [
    "vv/xx"
   ]
  },
  {
   "cell_type": "code",
   "execution_count": null,
   "metadata": {},
   "outputs": [],
   "source": []
  }
 ],
 "metadata": {
  "kernelspec": {
   "display_name": "Python 3",
   "language": "python",
   "name": "python3"
  },
  "language_info": {
   "codemirror_mode": {
    "name": "ipython",
    "version": 3
   },
   "file_extension": ".py",
   "mimetype": "text/x-python",
   "name": "python",
   "nbconvert_exporter": "python",
   "pygments_lexer": "ipython3",
   "version": "3.6.2"
  }
 },
 "nbformat": 4,
 "nbformat_minor": 2
}
