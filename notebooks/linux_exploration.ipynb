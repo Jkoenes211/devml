{
 "cells": [
  {
   "cell_type": "code",
   "execution_count": 1,
   "metadata": {},
   "outputs": [
    {
     "data": {
      "text/html": [
       "<style>.container { width:100% !important; }</style>"
      ],
      "text/plain": [
       "<IPython.core.display.HTML object>"
      ]
     },
     "metadata": {},
     "output_type": "display_data"
    }
   ],
   "source": [
    "import sys;sys.path.append(\"..\")\n",
    "import pandas as pd\n",
    "from pandas import DataFrame\n",
    "import seaborn as sns\n",
    "import matplotlib.pyplot as plt\n",
    "from sklearn.cluster import KMeans\n",
    "%matplotlib inline\n",
    "from IPython.core.display import display, HTML\n",
    "display(HTML(\"<style>.container { width:100% !important; }</style>\"))"
   ]
  },
  {
   "cell_type": "code",
   "execution_count": 2,
   "metadata": {},
   "outputs": [],
   "source": [
    "from devml.post_processing import (git_churn_df, file_len, git_populate_file_metatdata)"
   ]
  },
  {
   "cell_type": "code",
   "execution_count": 3,
   "metadata": {},
   "outputs": [
    {
     "name": "stderr",
     "output_type": "stream",
     "text": [
      "2017-10-22 10:02:53,055 - devml.post_processing - INFO - Running churn cmd: [git log --name-only --pretty=format:] at path [/Users/noahgift/src/linux]\n"
     ]
    }
   ],
   "source": [
    "df = git_churn_df(path=\"/Users/noahgift/src/linux\")"
   ]
  },
  {
   "cell_type": "code",
   "execution_count": 4,
   "metadata": {},
   "outputs": [],
   "source": [
    "metadata_df = git_populate_file_metatdata(df)"
   ]
  },
  {
   "cell_type": "code",
   "execution_count": 5,
   "metadata": {},
   "outputs": [
    {
     "data": {
      "text/html": [
       "<div>\n",
       "<style>\n",
       "    .dataframe thead tr:only-child th {\n",
       "        text-align: right;\n",
       "    }\n",
       "\n",
       "    .dataframe thead th {\n",
       "        text-align: left;\n",
       "    }\n",
       "\n",
       "    .dataframe tbody tr th {\n",
       "        vertical-align: top;\n",
       "    }\n",
       "</style>\n",
       "<table border=\"1\" class=\"dataframe\">\n",
       "  <thead>\n",
       "    <tr style=\"text-align: right;\">\n",
       "      <th></th>\n",
       "      <th>files</th>\n",
       "      <th>churn_count</th>\n",
       "      <th>line_count</th>\n",
       "      <th>extension</th>\n",
       "      <th>relative_churn</th>\n",
       "    </tr>\n",
       "  </thead>\n",
       "  <tbody>\n",
       "    <tr>\n",
       "      <th>1</th>\n",
       "      <td>b'MAINTAINERS'</td>\n",
       "      <td>4595</td>\n",
       "      <td>14942.0</td>\n",
       "      <td></td>\n",
       "      <td>0.31</td>\n",
       "    </tr>\n",
       "    <tr>\n",
       "      <th>2</th>\n",
       "      <td>b'drivers/gpu/drm/i915/intel_display.c'</td>\n",
       "      <td>3296</td>\n",
       "      <td>15493.0</td>\n",
       "      <td>.c</td>\n",
       "      <td>0.21</td>\n",
       "    </tr>\n",
       "    <tr>\n",
       "      <th>3</th>\n",
       "      <td>b'drivers/gpu/drm/i915/i915_drv.h'</td>\n",
       "      <td>2315</td>\n",
       "      <td>4343.0</td>\n",
       "      <td>.h</td>\n",
       "      <td>0.53</td>\n",
       "    </tr>\n",
       "    <tr>\n",
       "      <th>4</th>\n",
       "      <td>b'drivers/gpu/drm/i915/i915_gem.c'</td>\n",
       "      <td>1678</td>\n",
       "      <td>5392.0</td>\n",
       "      <td>.c</td>\n",
       "      <td>0.31</td>\n",
       "    </tr>\n",
       "    <tr>\n",
       "      <th>5</th>\n",
       "      <td>b'sound/pci/hda/patch_realtek.c'</td>\n",
       "      <td>1542</td>\n",
       "      <td>7931.0</td>\n",
       "      <td>.c</td>\n",
       "      <td>0.19</td>\n",
       "    </tr>\n",
       "    <tr>\n",
       "      <th>6</th>\n",
       "      <td>b'kernel/sched.c'</td>\n",
       "      <td>1359</td>\n",
       "      <td>NaN</td>\n",
       "      <td>.c</td>\n",
       "      <td>NaN</td>\n",
       "    </tr>\n",
       "    <tr>\n",
       "      <th>7</th>\n",
       "      <td>b'include/linux/sched.h'</td>\n",
       "      <td>1331</td>\n",
       "      <td>1669.0</td>\n",
       "      <td>.h</td>\n",
       "      <td>0.80</td>\n",
       "    </tr>\n",
       "    <tr>\n",
       "      <th>8</th>\n",
       "      <td>b'arch/x86/kvm/x86.c'</td>\n",
       "      <td>1287</td>\n",
       "      <td>8817.0</td>\n",
       "      <td>.c</td>\n",
       "      <td>0.15</td>\n",
       "    </tr>\n",
       "    <tr>\n",
       "      <th>9</th>\n",
       "      <td>b'drivers/gpu/drm/i915/intel_pm.c'</td>\n",
       "      <td>1287</td>\n",
       "      <td>9262.0</td>\n",
       "      <td>.c</td>\n",
       "      <td>0.14</td>\n",
       "    </tr>\n",
       "    <tr>\n",
       "      <th>10</th>\n",
       "      <td>b'arch/arm/Kconfig'</td>\n",
       "      <td>1286</td>\n",
       "      <td>2217.0</td>\n",
       "      <td></td>\n",
       "      <td>0.58</td>\n",
       "    </tr>\n",
       "  </tbody>\n",
       "</table>\n",
       "</div>"
      ],
      "text/plain": [
       "                                      files  churn_count  line_count  \\\n",
       "1                            b'MAINTAINERS'         4595     14942.0   \n",
       "2   b'drivers/gpu/drm/i915/intel_display.c'         3296     15493.0   \n",
       "3        b'drivers/gpu/drm/i915/i915_drv.h'         2315      4343.0   \n",
       "4        b'drivers/gpu/drm/i915/i915_gem.c'         1678      5392.0   \n",
       "5          b'sound/pci/hda/patch_realtek.c'         1542      7931.0   \n",
       "6                         b'kernel/sched.c'         1359         NaN   \n",
       "7                  b'include/linux/sched.h'         1331      1669.0   \n",
       "8                     b'arch/x86/kvm/x86.c'         1287      8817.0   \n",
       "9        b'drivers/gpu/drm/i915/intel_pm.c'         1287      9262.0   \n",
       "10                      b'arch/arm/Kconfig'         1286      2217.0   \n",
       "\n",
       "   extension  relative_churn  \n",
       "1                       0.31  \n",
       "2         .c            0.21  \n",
       "3         .h            0.53  \n",
       "4         .c            0.31  \n",
       "5         .c            0.19  \n",
       "6         .c             NaN  \n",
       "7         .h            0.80  \n",
       "8         .c            0.15  \n",
       "9         .c            0.14  \n",
       "10                      0.58  "
      ]
     },
     "execution_count": 5,
     "metadata": {},
     "output_type": "execute_result"
    }
   ],
   "source": [
    "metadata_df.sort_values(by=\"churn_count\", ascending=False).head(10)"
   ]
  },
  {
   "cell_type": "code",
   "execution_count": 6,
   "metadata": {},
   "outputs": [
    {
     "data": {
      "text/plain": [
       "churn_count         4.00\n",
       "line_count        143.00\n",
       "relative_churn      0.05\n",
       "dtype: float64"
      ]
     },
     "execution_count": 6,
     "metadata": {},
     "output_type": "execute_result"
    }
   ],
   "source": [
    "metadata_df.median()"
   ]
  },
  {
   "cell_type": "code",
   "execution_count": 7,
   "metadata": {},
   "outputs": [
    {
     "name": "stderr",
     "output_type": "stream",
     "text": [
      "2017-10-22 10:04:12,282 - devml.post_processing - INFO - Running del cmd: [git log --diff-filter=D --summary | grep delete] at path [/Users/noahgift/src/linux]\n"
     ]
    }
   ],
   "source": [
    "from devml.post_processing import git_deleted_files\n",
    "deletion_counts = git_deleted_files(\"/Users/noahgift/src/linux\")"
   ]
  },
  {
   "cell_type": "code",
   "execution_count": 8,
   "metadata": {},
   "outputs": [],
   "source": [
    "all_files = metadata_df['files']\n",
    "deleted_files = deletion_counts['files']\n",
    "membership = all_files.isin(deleted_files)"
   ]
  },
  {
   "cell_type": "code",
   "execution_count": 9,
   "metadata": {},
   "outputs": [],
   "source": [
    "metadata_df[\"deleted_files\"] = membership"
   ]
  },
  {
   "cell_type": "code",
   "execution_count": 10,
   "metadata": {},
   "outputs": [
    {
     "data": {
      "text/plain": [
       "churn_count        3.00\n",
       "line_count        79.00\n",
       "relative_churn     0.12\n",
       "deleted_files      1.00\n",
       "dtype: float64"
      ]
     },
     "execution_count": 10,
     "metadata": {},
     "output_type": "execute_result"
    }
   ],
   "source": [
    "metadata_df.loc[metadata_df[\"deleted_files\"] == True].median()"
   ]
  },
  {
   "cell_type": "code",
   "execution_count": 11,
   "metadata": {},
   "outputs": [
    {
     "data": {
      "text/plain": [
       "churn_count         5.00\n",
       "line_count        144.00\n",
       "relative_churn      0.05\n",
       "deleted_files       0.00\n",
       "dtype: float64"
      ]
     },
     "execution_count": 11,
     "metadata": {},
     "output_type": "execute_result"
    }
   ],
   "source": [
    "metadata_df.loc[metadata_df[\"deleted_files\"] == False].median()"
   ]
  },
  {
   "cell_type": "code",
   "execution_count": 12,
   "metadata": {},
   "outputs": [
    {
     "data": {
      "text/plain": [
       "files             106491\n",
       "churn_count       106491\n",
       "line_count         61276\n",
       "extension         106491\n",
       "relative_churn     61276\n",
       "deleted_files     106491\n",
       "dtype: int64"
      ]
     },
     "execution_count": 12,
     "metadata": {},
     "output_type": "execute_result"
    }
   ],
   "source": [
    "metadata_df.count()"
   ]
  },
  {
   "cell_type": "code",
   "execution_count": 13,
   "metadata": {},
   "outputs": [
    {
     "data": {
      "text/plain": [
       "<matplotlib.axes._subplots.AxesSubplot at 0x11cc5fcc0>"
      ]
     },
     "execution_count": 13,
     "metadata": {},
     "output_type": "execute_result"
    },
    {
     "data": {
      "image/png": "[encoded data removed]",
      "text/plain": [
       "<matplotlib.figure.Figure at 0x11cc5f208>"
      ]
     },
     "metadata": {},
     "output_type": "display_data"
    }
   ],
   "source": [
    "sns.heatmap(metadata_df.corr(), annot=True)"
   ]
  },
  {
   "cell_type": "code",
   "execution_count": 14,
   "metadata": {},
   "outputs": [
    {
     "data": {
      "text/plain": [
       "<seaborn.axisgrid.FacetGrid at 0x11cc8ca90>"
      ]
     },
     "execution_count": 14,
     "metadata": {},
     "output_type": "execute_result"
    },
    {
     "data": {
      "image/png": "[encoded data removed]",
      "text/plain": [
       "<matplotlib.figure.Figure at 0x11cc89f60>"
      ]
     },
     "metadata": {},
     "output_type": "display_data"
    }
   ],
   "source": [
    "sns.lmplot(x=\"churn_count\", y=\"line_count\", hue=\"deleted_files\", data=metadata_df)"
   ]
  },
  {
   "cell_type": "code",
   "execution_count": 15,
   "metadata": {},
   "outputs": [
    {
     "name": "stderr",
     "output_type": "stream",
     "text": [
      "2017-10-22 10:05:00,830 - devml.mkdata - INFO - Found repo: /Users/noahgift/src/linux/init\n",
      "2017-10-22 10:05:00,831 - devml.mkdata - INFO - Processing Repo: /Users/noahgift/src/linux/init\n",
      "2017-10-22 10:05:00,853 - devml.mkdata - INFO - Repo Name: b'linux'\n",
      "2017-10-22 10:05:10,075 - devml.mkdata - ERROR - utf8 encoding is incorrect, trying ISO-8859-1\n",
      "Traceback (most recent call last):\n",
      "  File \"../devml/mkdata.py\", line 46, in log_to_dict\n",
      "UnicodeDecodeError: 'utf-8' codec can't decode byte 0xe9 in position 69960305: invalid continuation byte\n",
      "2017-10-22 10:05:12,829 - devml.mkdata - INFO - Found 656006 Messages For Repo: b'linux'\n",
      "2017-10-22 10:05:12,843 - devml.mkdata - INFO - Found repo: /Users/noahgift/src/linux/crypto\n",
      "2017-10-22 10:05:12,844 - devml.mkdata - INFO - Processing Repo: /Users/noahgift/src/linux/crypto\n",
      "2017-10-22 10:05:12,875 - devml.mkdata - INFO - Repo Name: b'linux'\n",
      "2017-10-22 10:05:21,953 - devml.mkdata - ERROR - utf8 encoding is incorrect, trying ISO-8859-1\n",
      "Traceback (most recent call last):\n",
      "  File \"../devml/mkdata.py\", line 46, in log_to_dict\n",
      "UnicodeDecodeError: 'utf-8' codec can't decode byte 0xe9 in position 69960305: invalid continuation byte\n",
      "2017-10-22 10:05:25,372 - devml.mkdata - INFO - Found 656006 Messages For Repo: b'linux'\n",
      "2017-10-22 10:05:25,384 - devml.mkdata - INFO - Found repo: /Users/noahgift/src/linux/firmware\n",
      "2017-10-22 10:05:25,385 - devml.mkdata - INFO - Processing Repo: /Users/noahgift/src/linux/firmware\n",
      "2017-10-22 10:05:25,417 - devml.mkdata - INFO - Repo Name: b'linux'\n",
      "2017-10-22 10:05:34,412 - devml.mkdata - ERROR - utf8 encoding is incorrect, trying ISO-8859-1\n",
      "Traceback (most recent call last):\n",
      "  File \"../devml/mkdata.py\", line 46, in log_to_dict\n",
      "UnicodeDecodeError: 'utf-8' codec can't decode byte 0xe9 in position 69960305: invalid continuation byte\n",
      "2017-10-22 10:05:38,071 - devml.mkdata - INFO - Found 656006 Messages For Repo: b'linux'\n",
      "2017-10-22 10:05:38,085 - devml.mkdata - INFO - Found repo: /Users/noahgift/src/linux/Documentation\n",
      "2017-10-22 10:05:38,086 - devml.mkdata - INFO - Processing Repo: /Users/noahgift/src/linux/Documentation\n",
      "2017-10-22 10:05:38,129 - devml.mkdata - INFO - Repo Name: b'linux'\n",
      "2017-10-22 10:05:47,380 - devml.mkdata - ERROR - utf8 encoding is incorrect, trying ISO-8859-1\n",
      "Traceback (most recent call last):\n",
      "  File \"../devml/mkdata.py\", line 46, in log_to_dict\n",
      "UnicodeDecodeError: 'utf-8' codec can't decode byte 0xe9 in position 69960305: invalid continuation byte\n",
      "2017-10-22 10:05:51,235 - devml.mkdata - INFO - Found 656006 Messages For Repo: b'linux'\n",
      "2017-10-22 10:05:51,247 - devml.mkdata - INFO - Found repo: /Users/noahgift/src/linux/usr\n",
      "2017-10-22 10:05:51,248 - devml.mkdata - INFO - Processing Repo: /Users/noahgift/src/linux/usr\n",
      "2017-10-22 10:05:51,294 - devml.mkdata - INFO - Repo Name: b'linux'\n",
      "2017-10-22 10:06:00,288 - devml.mkdata - ERROR - utf8 encoding is incorrect, trying ISO-8859-1\n",
      "Traceback (most recent call last):\n",
      "  File \"../devml/mkdata.py\", line 46, in log_to_dict\n",
      "UnicodeDecodeError: 'utf-8' codec can't decode byte 0xe9 in position 69960305: invalid continuation byte\n",
      "2017-10-22 10:06:04,412 - devml.mkdata - INFO - Found 656006 Messages For Repo: b'linux'\n",
      "2017-10-22 10:06:04,425 - devml.mkdata - INFO - Found repo: /Users/noahgift/src/linux/tools\n",
      "2017-10-22 10:06:04,426 - devml.mkdata - INFO - Processing Repo: /Users/noahgift/src/linux/tools\n",
      "2017-10-22 10:06:04,472 - devml.mkdata - INFO - Repo Name: b'linux'\n",
      "2017-10-22 10:06:13,592 - devml.mkdata - ERROR - utf8 encoding is incorrect, trying ISO-8859-1\n",
      "Traceback (most recent call last):\n",
      "  File \"../devml/mkdata.py\", line 46, in log_to_dict\n",
      "UnicodeDecodeError: 'utf-8' codec can't decode byte 0xe9 in position 69960305: invalid continuation byte\n",
      "2017-10-22 10:06:17,618 - devml.mkdata - INFO - Found 656006 Messages For Repo: b'linux'\n",
      "2017-10-22 10:06:17,631 - devml.mkdata - INFO - Found repo: /Users/noahgift/src/linux/net\n",
      "2017-10-22 10:06:17,632 - devml.mkdata - INFO - Processing Repo: /Users/noahgift/src/linux/net\n",
      "2017-10-22 10:06:17,682 - devml.mkdata - INFO - Repo Name: b'linux'\n",
      "2017-10-22 10:06:27,165 - devml.mkdata - ERROR - utf8 encoding is incorrect, trying ISO-8859-1\n",
      "Traceback (most recent call last):\n",
      "  File \"../devml/mkdata.py\", line 46, in log_to_dict\n",
      "UnicodeDecodeError: 'utf-8' codec can't decode byte 0xe9 in position 69960305: invalid continuation byte\n",
      "2017-10-22 10:06:31,720 - devml.mkdata - INFO - Found 656006 Messages For Repo: b'linux'\n",
      "2017-10-22 10:06:31,733 - devml.mkdata - INFO - Found repo: /Users/noahgift/src/linux/drivers\n",
      "2017-10-22 10:06:31,734 - devml.mkdata - INFO - Processing Repo: /Users/noahgift/src/linux/drivers\n",
      "2017-10-22 10:06:31,796 - devml.mkdata - INFO - Repo Name: b'linux'\n",
      "2017-10-22 10:06:41,759 - devml.mkdata - ERROR - utf8 encoding is incorrect, trying ISO-8859-1\n",
      "Traceback (most recent call last):\n",
      "  File \"../devml/mkdata.py\", line 46, in log_to_dict\n",
      "UnicodeDecodeError: 'utf-8' codec can't decode byte 0xe9 in position 69960305: invalid continuation byte\n",
      "2017-10-22 10:06:45,882 - devml.mkdata - INFO - Found 656006 Messages For Repo: b'linux'\n",
      "2017-10-22 10:06:45,897 - devml.mkdata - INFO - Found repo: /Users/noahgift/src/linux/security\n",
      "2017-10-22 10:06:45,898 - devml.mkdata - INFO - Processing Repo: /Users/noahgift/src/linux/security\n",
      "2017-10-22 10:06:45,987 - devml.mkdata - INFO - Repo Name: b'linux'\n",
      "2017-10-22 10:06:55,472 - devml.mkdata - ERROR - utf8 encoding is incorrect, trying ISO-8859-1\n",
      "Traceback (most recent call last):\n",
      "  File \"../devml/mkdata.py\", line 46, in log_to_dict\n",
      "UnicodeDecodeError: 'utf-8' codec can't decode byte 0xe9 in position 69960305: invalid continuation byte\n",
      "2017-10-22 10:06:59,966 - devml.mkdata - INFO - Found 656006 Messages For Repo: b'linux'\n",
      "2017-10-22 10:06:59,978 - devml.mkdata - INFO - Found repo: /Users/noahgift/src/linux/include\n",
      "2017-10-22 10:06:59,979 - devml.mkdata - INFO - Processing Repo: /Users/noahgift/src/linux/include\n",
      "2017-10-22 10:07:00,047 - devml.mkdata - INFO - Repo Name: b'linux'\n",
      "2017-10-22 10:07:08,951 - devml.mkdata - ERROR - utf8 encoding is incorrect, trying ISO-8859-1\n",
      "Traceback (most recent call last):\n",
      "  File \"../devml/mkdata.py\", line 46, in log_to_dict\n",
      "UnicodeDecodeError: 'utf-8' codec can't decode byte 0xe9 in position 69960305: invalid continuation byte\n",
      "2017-10-22 10:07:13,248 - devml.mkdata - INFO - Found 656006 Messages For Repo: b'linux'\n",
      "2017-10-22 10:07:13,260 - devml.mkdata - INFO - Found repo: /Users/noahgift/src/linux/virt\n",
      "2017-10-22 10:07:13,261 - devml.mkdata - INFO - Processing Repo: /Users/noahgift/src/linux/virt\n",
      "2017-10-22 10:07:13,349 - devml.mkdata - INFO - Repo Name: b'linux'\n",
      "2017-10-22 10:07:22,226 - devml.mkdata - ERROR - utf8 encoding is incorrect, trying ISO-8859-1\n",
      "Traceback (most recent call last):\n",
      "  File \"../devml/mkdata.py\", line 46, in log_to_dict\n",
      "UnicodeDecodeError: 'utf-8' codec can't decode byte 0xe9 in position 69960305: invalid continuation byte\n",
      "2017-10-22 10:07:26,891 - devml.mkdata - INFO - Found 656006 Messages For Repo: b'linux'\n",
      "2017-10-22 10:07:26,904 - devml.mkdata - INFO - Found repo: /Users/noahgift/src/linux/samples\n",
      "2017-10-22 10:07:26,905 - devml.mkdata - INFO - Processing Repo: /Users/noahgift/src/linux/samples\n",
      "2017-10-22 10:07:27,015 - devml.mkdata - INFO - Repo Name: b'linux'\n",
      "2017-10-22 10:07:36,074 - devml.mkdata - ERROR - utf8 encoding is incorrect, trying ISO-8859-1\n",
      "Traceback (most recent call last):\n",
      "  File \"../devml/mkdata.py\", line 46, in log_to_dict\n",
      "UnicodeDecodeError: 'utf-8' codec can't decode byte 0xe9 in position 69960305: invalid continuation byte\n",
      "2017-10-22 10:07:40,471 - devml.mkdata - INFO - Found 656006 Messages For Repo: b'linux'\n",
      "2017-10-22 10:07:40,483 - devml.mkdata - INFO - Found repo: /Users/noahgift/src/linux/certs\n",
      "2017-10-22 10:07:40,484 - devml.mkdata - INFO - Processing Repo: /Users/noahgift/src/linux/certs\n",
      "2017-10-22 10:07:40,612 - devml.mkdata - INFO - Repo Name: b'linux'\n",
      "2017-10-22 10:07:49,651 - devml.mkdata - ERROR - utf8 encoding is incorrect, trying ISO-8859-1\n",
      "Traceback (most recent call last):\n",
      "  File \"../devml/mkdata.py\", line 46, in log_to_dict\n",
      "UnicodeDecodeError: 'utf-8' codec can't decode byte 0xe9 in position 69960305: invalid continuation byte\n",
      "2017-10-22 10:07:54,295 - devml.mkdata - INFO - Found 656006 Messages For Repo: b'linux'\n"
     ]
    },
    {
     "name": "stderr",
     "output_type": "stream",
     "text": [
      "2017-10-22 10:07:54,308 - devml.mkdata - INFO - Found repo: /Users/noahgift/src/linux/arch\n",
      "2017-10-22 10:07:54,308 - devml.mkdata - INFO - Processing Repo: /Users/noahgift/src/linux/arch\n",
      "2017-10-22 10:07:54,440 - devml.mkdata - INFO - Repo Name: b'linux'\n",
      "2017-10-22 10:08:03,664 - devml.mkdata - ERROR - utf8 encoding is incorrect, trying ISO-8859-1\n",
      "Traceback (most recent call last):\n",
      "  File \"../devml/mkdata.py\", line 46, in log_to_dict\n",
      "UnicodeDecodeError: 'utf-8' codec can't decode byte 0xe9 in position 69960305: invalid continuation byte\n",
      "2017-10-22 10:08:08,088 - devml.mkdata - INFO - Found 656006 Messages For Repo: b'linux'\n",
      "2017-10-22 10:08:08,101 - devml.mkdata - INFO - Found repo: /Users/noahgift/src/linux/scripts\n",
      "2017-10-22 10:08:08,101 - devml.mkdata - INFO - Processing Repo: /Users/noahgift/src/linux/scripts\n",
      "2017-10-22 10:08:08,230 - devml.mkdata - INFO - Repo Name: b'linux'\n",
      "2017-10-22 10:08:17,511 - devml.mkdata - ERROR - utf8 encoding is incorrect, trying ISO-8859-1\n",
      "Traceback (most recent call last):\n",
      "  File \"../devml/mkdata.py\", line 46, in log_to_dict\n",
      "UnicodeDecodeError: 'utf-8' codec can't decode byte 0xe9 in position 69960305: invalid continuation byte\n",
      "2017-10-22 10:08:21,883 - devml.mkdata - INFO - Found 656006 Messages For Repo: b'linux'\n",
      "2017-10-22 10:08:21,895 - devml.mkdata - INFO - Found repo: /Users/noahgift/src/linux/lib\n",
      "2017-10-22 10:08:21,895 - devml.mkdata - INFO - Processing Repo: /Users/noahgift/src/linux/lib\n",
      "2017-10-22 10:08:22,026 - devml.mkdata - INFO - Repo Name: b'linux'\n",
      "2017-10-22 10:08:31,197 - devml.mkdata - ERROR - utf8 encoding is incorrect, trying ISO-8859-1\n",
      "Traceback (most recent call last):\n",
      "  File \"../devml/mkdata.py\", line 46, in log_to_dict\n",
      "UnicodeDecodeError: 'utf-8' codec can't decode byte 0xe9 in position 69960305: invalid continuation byte\n",
      "2017-10-22 10:08:35,491 - devml.mkdata - INFO - Found 656006 Messages For Repo: b'linux'\n",
      "2017-10-22 10:08:35,503 - devml.mkdata - INFO - Found repo: /Users/noahgift/src/linux/mm\n",
      "2017-10-22 10:08:35,504 - devml.mkdata - INFO - Processing Repo: /Users/noahgift/src/linux/mm\n",
      "2017-10-22 10:08:35,666 - devml.mkdata - INFO - Repo Name: b'linux'\n",
      "2017-10-22 10:08:45,967 - devml.mkdata - ERROR - utf8 encoding is incorrect, trying ISO-8859-1\n",
      "Traceback (most recent call last):\n",
      "  File \"../devml/mkdata.py\", line 46, in log_to_dict\n",
      "UnicodeDecodeError: 'utf-8' codec can't decode byte 0xe9 in position 69960305: invalid continuation byte\n",
      "2017-10-22 10:08:50,974 - devml.mkdata - INFO - Found 656006 Messages For Repo: b'linux'\n",
      "2017-10-22 10:08:50,986 - devml.mkdata - INFO - Found repo: /Users/noahgift/src/linux/ipc\n",
      "2017-10-22 10:08:50,987 - devml.mkdata - INFO - Processing Repo: /Users/noahgift/src/linux/ipc\n",
      "2017-10-22 10:08:51,162 - devml.mkdata - INFO - Repo Name: b'linux'\n",
      "2017-10-22 10:09:00,294 - devml.mkdata - ERROR - utf8 encoding is incorrect, trying ISO-8859-1\n",
      "Traceback (most recent call last):\n",
      "  File \"../devml/mkdata.py\", line 46, in log_to_dict\n",
      "UnicodeDecodeError: 'utf-8' codec can't decode byte 0xe9 in position 69960305: invalid continuation byte\n",
      "2017-10-22 10:09:04,716 - devml.mkdata - INFO - Found 656006 Messages For Repo: b'linux'\n",
      "2017-10-22 10:09:04,729 - devml.mkdata - INFO - Found repo: /Users/noahgift/src/linux/.git\n",
      "2017-10-22 10:09:04,730 - devml.mkdata - INFO - Processing Repo: /Users/noahgift/src/linux/.git\n",
      "2017-10-22 10:09:04,919 - devml.mkdata - INFO - Repo Name: b''\n",
      "2017-10-22 10:09:14,384 - devml.mkdata - ERROR - utf8 encoding is incorrect, trying ISO-8859-1\n",
      "Traceback (most recent call last):\n",
      "  File \"../devml/mkdata.py\", line 46, in log_to_dict\n",
      "UnicodeDecodeError: 'utf-8' codec can't decode byte 0xe9 in position 69960305: invalid continuation byte\n",
      "2017-10-22 10:09:19,986 - devml.mkdata - INFO - Found 656006 Messages For Repo: b''\n",
      "2017-10-22 10:09:19,998 - devml.mkdata - INFO - Found repo: /Users/noahgift/src/linux/fs\n",
      "2017-10-22 10:09:19,999 - devml.mkdata - INFO - Processing Repo: /Users/noahgift/src/linux/fs\n",
      "2017-10-22 10:09:20,175 - devml.mkdata - INFO - Repo Name: b'linux'\n",
      "2017-10-22 10:09:30,567 - devml.mkdata - ERROR - utf8 encoding is incorrect, trying ISO-8859-1\n",
      "Traceback (most recent call last):\n",
      "  File \"../devml/mkdata.py\", line 46, in log_to_dict\n",
      "UnicodeDecodeError: 'utf-8' codec can't decode byte 0xe9 in position 69960305: invalid continuation byte\n",
      "2017-10-22 10:09:35,468 - devml.mkdata - INFO - Found 656006 Messages For Repo: b'linux'\n",
      "2017-10-22 10:09:35,481 - devml.mkdata - INFO - Found repo: /Users/noahgift/src/linux/sound\n",
      "2017-10-22 10:09:35,482 - devml.mkdata - INFO - Processing Repo: /Users/noahgift/src/linux/sound\n",
      "2017-10-22 10:09:35,669 - devml.mkdata - INFO - Repo Name: b'linux'\n",
      "2017-10-22 10:09:45,675 - devml.mkdata - ERROR - utf8 encoding is incorrect, trying ISO-8859-1\n",
      "Traceback (most recent call last):\n",
      "  File \"../devml/mkdata.py\", line 46, in log_to_dict\n",
      "UnicodeDecodeError: 'utf-8' codec can't decode byte 0xe9 in position 69960305: invalid continuation byte\n",
      "2017-10-22 10:09:51,218 - devml.mkdata - INFO - Found 656006 Messages For Repo: b'linux'\n",
      "2017-10-22 10:09:51,230 - devml.mkdata - INFO - Found repo: /Users/noahgift/src/linux/kernel\n",
      "2017-10-22 10:09:51,231 - devml.mkdata - INFO - Processing Repo: /Users/noahgift/src/linux/kernel\n",
      "2017-10-22 10:09:51,453 - devml.mkdata - INFO - Repo Name: b'linux'\n",
      "2017-10-22 10:10:01,581 - devml.mkdata - ERROR - utf8 encoding is incorrect, trying ISO-8859-1\n",
      "Traceback (most recent call last):\n",
      "  File \"../devml/mkdata.py\", line 46, in log_to_dict\n",
      "UnicodeDecodeError: 'utf-8' codec can't decode byte 0xe9 in position 69960305: invalid continuation byte\n",
      "2017-10-22 10:10:06,696 - devml.mkdata - INFO - Found 656006 Messages For Repo: b'linux'\n",
      "2017-10-22 10:10:06,709 - devml.mkdata - INFO - Found repo: /Users/noahgift/src/linux/block\n",
      "2017-10-22 10:10:06,709 - devml.mkdata - INFO - Processing Repo: /Users/noahgift/src/linux/block\n",
      "2017-10-22 10:10:06,934 - devml.mkdata - INFO - Repo Name: b'linux'\n",
      "2017-10-22 10:10:16,418 - devml.mkdata - ERROR - utf8 encoding is incorrect, trying ISO-8859-1\n",
      "Traceback (most recent call last):\n",
      "  File \"../devml/mkdata.py\", line 46, in log_to_dict\n",
      "UnicodeDecodeError: 'utf-8' codec can't decode byte 0xe9 in position 69960305: invalid continuation byte\n",
      "2017-10-22 10:10:22,127 - devml.mkdata - INFO - Found 656006 Messages For Repo: b'linux'\n",
      "2017-10-22 10:10:22,140 - devml.mkdata - INFO - Found a total log entries: 15088138\n",
      "2017-10-22 10:12:37,844 - devml.mkdata - INFO - Changing back to original cwd: /Users/noahgift/src/linux from /Users/noahgift/src/linux/block\n"
     ]
    }
   ],
   "source": [
    "import devml\n",
    "df = devml.mkdata.create_org_df(path=\"/Users/noahgift/src/linux/\")"
   ]
  },
  {
   "cell_type": "code",
   "execution_count": 23,
   "metadata": {},
   "outputs": [],
   "source": [
    "def author_active_days(df):\n",
    "    \"\"\"Active Days (Days in which there was a commit)\n",
    "\n",
    "    This dataframe is return as index such that each column is a date\n",
    "    in which a commit was created.\n",
    "    \n",
    "    Example of how to query this:\n",
    "    ad = author_active_days(df)\n",
    "    active_days = ad.loc[\"Armin Ronacher\"].count()\n",
    "    Out[98]: 960\n",
    "\n",
    "    \"\"\"\n",
    "\n",
    "    active_days = {}\n",
    "    for name, group in df.groupby(\"author_name\"):\n",
    "        uday = unique_days(group)\n",
    "        active_days[name] = uday\n",
    "    df = DataFrame.from_dict(active_days, orient='index')\n",
    "    df.index.name = \"author_name\"\n",
    "    return df\n",
    "\n",
    "def author_unique_active_days(df, sort_by=\"active_days\"):\n",
    "    \"\"\"DataFrame of Unique Active Days by Author With Descending Order\n",
    "    \n",
    "    author_name\tunique_days\n",
    "    46\tArmin Ronacher\t271\n",
    "    260\tMarkus Unterwaditzer\t145\n",
    "    \"\"\"\n",
    "\n",
    "    author_list = []\n",
    "    count_list = []\n",
    "    duration_active_list = []\n",
    "    ad = author_active_days(df)\n",
    "    for author in ad.index:\n",
    "        author_list.append(author) \n",
    "        vals = ad.loc[author]\n",
    "        vals.dropna(inplace=True)\n",
    "        vals.drop_duplicates(inplace=True)\n",
    "        vals.sort_values(axis=0,inplace=True)\n",
    "        vals.reset_index(drop=True, inplace=True)\n",
    "        count_list.append(vals.count())\n",
    "        duration_active_list.append(vals[len(vals)-1]-vals[0])\n",
    "    df_author_ud = DataFrame()   \n",
    "    df_author_ud[\"author_name\"] = author_list\n",
    "    df_author_ud[\"active_days\"] = count_list\n",
    "    df_author_ud[\"active_duration\"] = duration_active_list\n",
    "    df_author_ud[\"active_ratio\"] = \\\n",
    "        round(df_author_ud[\"active_days\"]/df_author_ud[\"active_duration\"].dt.days, 2)\n",
    "    df_author_ud = df_author_ud.iloc[1:] #first row is =\n",
    "    df_author_ud = df_author_ud.sort_values(by=sort_by, ascending=False)\n",
    "    return df_author_ud"
   ]
  },
  {
   "cell_type": "code",
   "execution_count": 27,
   "metadata": {},
   "outputs": [],
   "source": [
    "from devml.ts import (unique_days)\n",
    "activity_counts = author_unique_active_days(df, sort_by=\"active_days\")\n"
   ]
  },
  {
   "cell_type": "code",
   "execution_count": 50,
   "metadata": {},
   "outputs": [
    {
     "data": {
      "image/png": "[encoded data removed]",
      "text/plain": [
       "<matplotlib.figure.Figure at 0x11b57f5f8>"
      ]
     },
     "metadata": {},
     "output_type": "display_data"
    }
   ],
   "source": [
    "ac_25 = activity_counts.head(25)\n",
    "plt.subplots(figsize=(20,15))\n",
    "ax = plt.axes()\n",
    "sns.barplot(x=\"active_days\", y=\"author_name\", data=ac_25,\n",
    "            label=\"Active Days\", color=\"b\")\n",
    "# Add a legend and informative axis label\n",
    "ax.legend(ncol=2, loc=\"lower right\", frameon=True)\n",
    "ax.set(xlim=(500,2000),ylabel=\"\",\n",
    "       xlabel=\"Active Days on Linux Development\")\n",
    "sns.despine(left=True, bottom=True)"
   ]
  },
  {
   "cell_type": "code",
   "execution_count": null,
   "metadata": {},
   "outputs": [],
   "source": []
  }
 ],
 "metadata": {
  "kernelspec": {
   "display_name": "Python 3",
   "language": "python",
   "name": "python3"
  },
  "language_info": {
   "codemirror_mode": {
    "name": "ipython",
    "version": 3
   },
   "file_extension": ".py",
   "mimetype": "text/x-python",
   "name": "python",
   "nbconvert_exporter": "python",
   "pygments_lexer": "ipython3",
   "version": "3.6.2"
  }
 },
 "nbformat": 4,
 "nbformat_minor": 2
}
